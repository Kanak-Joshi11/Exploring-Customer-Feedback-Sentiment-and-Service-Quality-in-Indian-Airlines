{
  "nbformat": 4,
  "nbformat_minor": 0,
  "metadata": {
    "colab": {
      "provenance": []
    },
    "kernelspec": {
      "name": "python3",
      "display_name": "Python 3"
    },
    "language_info": {
      "name": "python"
    }
  },
  "cells": [
    {
      "cell_type": "code",
      "execution_count": null,
      "metadata": {
        "id": "IOciW3jVOCg6"
      },
      "outputs": [],
      "source": [
        "import re\n",
        "import pandas as pd                                                             # Importing the pandas library to work with data frames\n",
        "import numpy as np                                                              # Importing the numpy library for numerical operations\n",
        "from plotnine import *                                                          # Importing the plotnine library for data visualization\n",
        "from pandas import DataFrame, read_csv                                          # Importing the DataFrame and read_csv functions from pandas library\n",
        "from wordcloud import WordCloud                                                 # Importing the WordCloud function from wordcloud library\n",
        "import matplotlib.pyplot as plt                                                 # Importing the matplotlib.pyplot library for data visualization\n",
        "%matplotlib inline"
      ]
    },
    {
      "cell_type": "code",
      "source": [
        "import os                                                                        # Importing the os library to interact with the operating system\n",
        "os.getcwd()                                                                      # checking the current working directory"
      ],
      "metadata": {
        "colab": {
          "base_uri": "https://localhost:8080/",
          "height": 35
        },
        "id": "EPPH7Pmr5GOm",
        "outputId": "93d1662b-5a45-425f-a204-4c5847705410"
      },
      "execution_count": null,
      "outputs": [
        {
          "output_type": "execute_result",
          "data": {
            "text/plain": [
              "'/content'"
            ],
            "application/vnd.google.colaboratory.intrinsic+json": {
              "type": "string"
            }
          },
          "metadata": {},
          "execution_count": 5
        }
      ]
    },
    {
      "cell_type": "code",
      "source": [
        "import pandas as pd\n",
        "\n",
        "def clean_datasets(file_paths, output_paths):                                   # creating a function to process multiple CSV files\n",
        "\n",
        "    for i, file_path in enumerate(file_paths):\n",
        "\n",
        "        df = pd.read_csv(file_path)                                             # Reading the CSV file\n",
        "\n",
        "        columns_to_drop = [\"status\", \"wifi\", \"aircraft\"]\n",
        "        df = df.drop(columns=columns_to_drop, errors='ignore')\n",
        "\n",
        "        df_cleaned = df[df.isnull().sum(axis=1) = 0]                            # Removing rows with null values\n",
        "\n",
        "        df_cleaned.to_csv(output_paths[i], index=False)                         # Saving the cleaned dataset to new CSV file\n",
        "        print(f\"Cleaned data saved to {output_paths[i]}\")\n",
        "\n",
        "# File Paths:\n",
        "input_files = ['/Air_India.csv', '/Indigo.csv', '/Spicejet.csv', '/Vistara.csv']\n",
        "output_files = ['AI_cleaned.csv', 'IN_cleaned.csv', 'SJ_cleaned.csv', 'VS_cleaned.csv']\n",
        "\n",
        "# Call the function\n",
        "clean_datasets(input_files, output_files)\n"
      ],
      "metadata": {
        "colab": {
          "base_uri": "https://localhost:8080/"
        },
        "id": "LNVGxKkg6aQh",
        "outputId": "f318438d-cf3a-409d-e1e9-ed11d1cd4692"
      },
      "execution_count": null,
      "outputs": [
        {
          "output_type": "stream",
          "name": "stdout",
          "text": [
            "Cleaned data saved to AI_cleaned.csv\n",
            "Cleaned data saved to IN_cleaned.csv\n",
            "Cleaned data saved to SJ_cleaned.csv\n",
            "Cleaned data saved to VS_cleaned.csv\n"
          ]
        }
      ]
    },
    {
      "cell_type": "code",
      "source": [
        "def readData():\n",
        "    colnames_reviews = ['travel_type', 'travel_class', 'route', 'date', 'seating_comfort', 'staff_service', 'food_quality', 'entertainment', 'ground_service', 'value_for_money', 'recommended', 'overall_rating', 'review','Airlines']\n",
        "\n",
        "    IN = pd.read_csv(\"/content/IN_cleaned.csv\",header = None,names = colnames_reviews, skiprows=1)\n",
        "    VS = pd.read_csv(\"/content/VS_cleaned.csv\",header = None,names = colnames_reviews, skiprows=1)\n",
        "    AI = pd.read_csv(\"/content/AI_cleaned.csv\",header = None,names = colnames_reviews, skiprows=1)\n",
        "    SJ = pd.read_csv(\"/content/SJ_cleaned.csv\",header = None,names = colnames_reviews, skiprows=1)\n",
        "    return pd.concat([IN,VS, AI, SJ])                                           # Stacking the data of different Airlines to create a single dataframe for analysis"
      ],
      "metadata": {
        "id": "3UF9vy8vOTBH"
      },
      "execution_count": null,
      "outputs": []
    },
    {
      "cell_type": "code",
      "source": [
        "df_reviews = readData()                                                         # Calling the readData() function to create a single dataframe"
      ],
      "metadata": {
        "id": "XU3uZpWkQPiW"
      },
      "execution_count": null,
      "outputs": []
    },
    {
      "cell_type": "code",
      "source": [
        "df_reviews = df_reviews.drop_duplicates(keep='first')                           # Removing duplicate rows from the dataframe"
      ],
      "metadata": {
        "id": "QDjRZyS0RzlV"
      },
      "execution_count": null,
      "outputs": []
    },
    {
      "cell_type": "code",
      "source": [
        "def stripChar(df_reviews):                                                               # removing special characters from the data\n",
        "    try:\n",
        "        return re.sub(\"[()\\\"]\",\"\",df_reviews)\n",
        "    except:\n",
        "        return np.nan"
      ],
      "metadata": {
        "id": "AWGLfY5ESBqs"
      },
      "execution_count": null,
      "outputs": []
    },
    {
      "cell_type": "code",
      "source": [
        "df_reviews.recommended = df_reviews.recommended.eq('yes').mul(1)                # Recoding the recommended column to binary values"
      ],
      "metadata": {
        "id": "KbjMZ5g1Tno_"
      },
      "execution_count": null,
      "outputs": []
    },
    {
      "cell_type": "code",
      "source": [
        "df_reviews['date'] = pd.to_datetime(df_reviews['date'])                         # Converting the date column to datetime format"
      ],
      "metadata": {
        "colab": {
          "base_uri": "https://localhost:8080/"
        },
        "id": "lIJTF7ZdT45L",
        "outputId": "4968e31c-1fe7-4a69-d6a3-39ef26540fbc"
      },
      "execution_count": null,
      "outputs": [
        {
          "output_type": "stream",
          "name": "stderr",
          "text": [
            "<ipython-input-25-a0049c5947d0>:1: UserWarning: Could not infer format, so each element will be parsed individually, falling back to `dateutil`. To ensure parsing is consistent and as-expected, please specify a format.\n"
          ]
        }
      ]
    },
    {
      "cell_type": "code",
      "source": [
        "df_reviews['year'] = df_reviews['date'].dt.year                                 # Extracting the year from the date column\n",
        "df_reviews['month'] = df_reviews['date'].dt.month                               # Extracting the month from the date column"
      ],
      "metadata": {
        "id": "zf-ebCUcUYhV"
      },
      "execution_count": null,
      "outputs": []
    },
    {
      "cell_type": "code",
      "source": [
        "df_reviews.head(5)"
      ],
      "metadata": {
        "colab": {
          "base_uri": "https://localhost:8080/",
          "height": 642
        },
        "id": "Kug5JhIlUiXe",
        "outputId": "6cc9d909-57b7-49af-f04d-deeeda5844eb"
      },
      "execution_count": null,
      "outputs": [
        {
          "output_type": "execute_result",
          "data": {
            "text/plain": [
              "      travel_type    travel_class                         route       date  \\\n",
              "0    Solo Leisure   Economy Class  Bangalore to Paris via Delhi 2024-08-01   \n",
              "1  Family Leisure   Economy Class  Sydney to Amritsar via Delhi 2024-09-01   \n",
              "2        Business  Business Class               London to Delhi 2024-09-01   \n",
              "3  Family Leisure   Economy Class               Delhi to Sydney 2024-09-01   \n",
              "4  Family Leisure   Economy Class            Kochi to Vancouver 2023-12-01   \n",
              "\n",
              "   seating_comfort  staff_service  food_quality  entertainment  \\\n",
              "0              2.0            1.0           2.0            1.0   \n",
              "1              3.0            4.0           1.0            1.0   \n",
              "2              5.0            5.0           5.0            5.0   \n",
              "3              1.0            1.0           2.0            1.0   \n",
              "4              1.0            1.0           1.0            1.0   \n",
              "\n",
              "   ground_service  value_for_money  recommended  overall_rating  \\\n",
              "0             1.0              1.0            0             1.0   \n",
              "1             1.0              2.0            0             1.0   \n",
              "2             5.0              5.0            1            10.0   \n",
              "3             2.0              1.0            0             1.0   \n",
              "4             1.0              1.0            0             1.0   \n",
              "\n",
              "                                              review Airlines  year  month  \n",
              "0     Had a flight on 31 August from Bangalore to...   Indigo  2024      8  \n",
              "1     I had the worst experience with Air India. ...   Indigo  2024      9  \n",
              "2   My husband left his passport at home and is f...   Indigo  2024      9  \n",
              "3     On the way in from Sydney to Delhi , there ...   Indigo  2024      9  \n",
              "4   This is the worst airlines anyone can choose,...   Indigo  2023     12  "
            ],
            "text/html": [
              "\n",
              "  <div id=\"df-2fcc6a8c-8f38-4346-8bc4-621d7e96a994\" class=\"colab-df-container\">\n",
              "    <div>\n",
              "<style scoped>\n",
              "    .dataframe tbody tr th:only-of-type {\n",
              "        vertical-align: middle;\n",
              "    }\n",
              "\n",
              "    .dataframe tbody tr th {\n",
              "        vertical-align: top;\n",
              "    }\n",
              "\n",
              "    .dataframe thead th {\n",
              "        text-align: right;\n",
              "    }\n",
              "</style>\n",
              "<table border=\"1\" class=\"dataframe\">\n",
              "  <thead>\n",
              "    <tr style=\"text-align: right;\">\n",
              "      <th></th>\n",
              "      <th>travel_type</th>\n",
              "      <th>travel_class</th>\n",
              "      <th>route</th>\n",
              "      <th>date</th>\n",
              "      <th>seating_comfort</th>\n",
              "      <th>staff_service</th>\n",
              "      <th>food_quality</th>\n",
              "      <th>entertainment</th>\n",
              "      <th>ground_service</th>\n",
              "      <th>value_for_money</th>\n",
              "      <th>recommended</th>\n",
              "      <th>overall_rating</th>\n",
              "      <th>review</th>\n",
              "      <th>Airlines</th>\n",
              "      <th>year</th>\n",
              "      <th>month</th>\n",
              "    </tr>\n",
              "  </thead>\n",
              "  <tbody>\n",
              "    <tr>\n",
              "      <th>0</th>\n",
              "      <td>Solo Leisure</td>\n",
              "      <td>Economy Class</td>\n",
              "      <td>Bangalore to Paris via Delhi</td>\n",
              "      <td>2024-08-01</td>\n",
              "      <td>2.0</td>\n",
              "      <td>1.0</td>\n",
              "      <td>2.0</td>\n",
              "      <td>1.0</td>\n",
              "      <td>1.0</td>\n",
              "      <td>1.0</td>\n",
              "      <td>0</td>\n",
              "      <td>1.0</td>\n",
              "      <td>Had a flight on 31 August from Bangalore to...</td>\n",
              "      <td>Indigo</td>\n",
              "      <td>2024</td>\n",
              "      <td>8</td>\n",
              "    </tr>\n",
              "    <tr>\n",
              "      <th>1</th>\n",
              "      <td>Family Leisure</td>\n",
              "      <td>Economy Class</td>\n",
              "      <td>Sydney to Amritsar via Delhi</td>\n",
              "      <td>2024-09-01</td>\n",
              "      <td>3.0</td>\n",
              "      <td>4.0</td>\n",
              "      <td>1.0</td>\n",
              "      <td>1.0</td>\n",
              "      <td>1.0</td>\n",
              "      <td>2.0</td>\n",
              "      <td>0</td>\n",
              "      <td>1.0</td>\n",
              "      <td>I had the worst experience with Air India. ...</td>\n",
              "      <td>Indigo</td>\n",
              "      <td>2024</td>\n",
              "      <td>9</td>\n",
              "    </tr>\n",
              "    <tr>\n",
              "      <th>2</th>\n",
              "      <td>Business</td>\n",
              "      <td>Business Class</td>\n",
              "      <td>London to Delhi</td>\n",
              "      <td>2024-09-01</td>\n",
              "      <td>5.0</td>\n",
              "      <td>5.0</td>\n",
              "      <td>5.0</td>\n",
              "      <td>5.0</td>\n",
              "      <td>5.0</td>\n",
              "      <td>5.0</td>\n",
              "      <td>1</td>\n",
              "      <td>10.0</td>\n",
              "      <td>My husband left his passport at home and is f...</td>\n",
              "      <td>Indigo</td>\n",
              "      <td>2024</td>\n",
              "      <td>9</td>\n",
              "    </tr>\n",
              "    <tr>\n",
              "      <th>3</th>\n",
              "      <td>Family Leisure</td>\n",
              "      <td>Economy Class</td>\n",
              "      <td>Delhi to Sydney</td>\n",
              "      <td>2024-09-01</td>\n",
              "      <td>1.0</td>\n",
              "      <td>1.0</td>\n",
              "      <td>2.0</td>\n",
              "      <td>1.0</td>\n",
              "      <td>2.0</td>\n",
              "      <td>1.0</td>\n",
              "      <td>0</td>\n",
              "      <td>1.0</td>\n",
              "      <td>On the way in from Sydney to Delhi , there ...</td>\n",
              "      <td>Indigo</td>\n",
              "      <td>2024</td>\n",
              "      <td>9</td>\n",
              "    </tr>\n",
              "    <tr>\n",
              "      <th>4</th>\n",
              "      <td>Family Leisure</td>\n",
              "      <td>Economy Class</td>\n",
              "      <td>Kochi to Vancouver</td>\n",
              "      <td>2023-12-01</td>\n",
              "      <td>1.0</td>\n",
              "      <td>1.0</td>\n",
              "      <td>1.0</td>\n",
              "      <td>1.0</td>\n",
              "      <td>1.0</td>\n",
              "      <td>1.0</td>\n",
              "      <td>0</td>\n",
              "      <td>1.0</td>\n",
              "      <td>This is the worst airlines anyone can choose,...</td>\n",
              "      <td>Indigo</td>\n",
              "      <td>2023</td>\n",
              "      <td>12</td>\n",
              "    </tr>\n",
              "  </tbody>\n",
              "</table>\n",
              "</div>\n",
              "    <div class=\"colab-df-buttons\">\n",
              "\n",
              "  <div class=\"colab-df-container\">\n",
              "    <button class=\"colab-df-convert\" onclick=\"convertToInteractive('df-2fcc6a8c-8f38-4346-8bc4-621d7e96a994')\"\n",
              "            title=\"Convert this dataframe to an interactive table.\"\n",
              "            style=\"display:none;\">\n",
              "\n",
              "  <svg xmlns=\"http://www.w3.org/2000/svg\" height=\"24px\" viewBox=\"0 -960 960 960\">\n",
              "    <path d=\"M120-120v-720h720v720H120Zm60-500h600v-160H180v160Zm220 220h160v-160H400v160Zm0 220h160v-160H400v160ZM180-400h160v-160H180v160Zm440 0h160v-160H620v160ZM180-180h160v-160H180v160Zm440 0h160v-160H620v160Z\"/>\n",
              "  </svg>\n",
              "    </button>\n",
              "\n",
              "  <style>\n",
              "    .colab-df-container {\n",
              "      display:flex;\n",
              "      gap: 12px;\n",
              "    }\n",
              "\n",
              "    .colab-df-convert {\n",
              "      background-color: #E8F0FE;\n",
              "      border: none;\n",
              "      border-radius: 50%;\n",
              "      cursor: pointer;\n",
              "      display: none;\n",
              "      fill: #1967D2;\n",
              "      height: 32px;\n",
              "      padding: 0 0 0 0;\n",
              "      width: 32px;\n",
              "    }\n",
              "\n",
              "    .colab-df-convert:hover {\n",
              "      background-color: #E2EBFA;\n",
              "      box-shadow: 0px 1px 2px rgba(60, 64, 67, 0.3), 0px 1px 3px 1px rgba(60, 64, 67, 0.15);\n",
              "      fill: #174EA6;\n",
              "    }\n",
              "\n",
              "    .colab-df-buttons div {\n",
              "      margin-bottom: 4px;\n",
              "    }\n",
              "\n",
              "    [theme=dark] .colab-df-convert {\n",
              "      background-color: #3B4455;\n",
              "      fill: #D2E3FC;\n",
              "    }\n",
              "\n",
              "    [theme=dark] .colab-df-convert:hover {\n",
              "      background-color: #434B5C;\n",
              "      box-shadow: 0px 1px 3px 1px rgba(0, 0, 0, 0.15);\n",
              "      filter: drop-shadow(0px 1px 2px rgba(0, 0, 0, 0.3));\n",
              "      fill: #FFFFFF;\n",
              "    }\n",
              "  </style>\n",
              "\n",
              "    <script>\n",
              "      const buttonEl =\n",
              "        document.querySelector('#df-2fcc6a8c-8f38-4346-8bc4-621d7e96a994 button.colab-df-convert');\n",
              "      buttonEl.style.display =\n",
              "        google.colab.kernel.accessAllowed ? 'block' : 'none';\n",
              "\n",
              "      async function convertToInteractive(key) {\n",
              "        const element = document.querySelector('#df-2fcc6a8c-8f38-4346-8bc4-621d7e96a994');\n",
              "        const dataTable =\n",
              "          await google.colab.kernel.invokeFunction('convertToInteractive',\n",
              "                                                    [key], {});\n",
              "        if (!dataTable) return;\n",
              "\n",
              "        const docLinkHtml = 'Like what you see? Visit the ' +\n",
              "          '<a target=\"_blank\" href=https://colab.research.google.com/notebooks/data_table.ipynb>data table notebook</a>'\n",
              "          + ' to learn more about interactive tables.';\n",
              "        element.innerHTML = '';\n",
              "        dataTable['output_type'] = 'display_data';\n",
              "        await google.colab.output.renderOutput(dataTable, element);\n",
              "        const docLink = document.createElement('div');\n",
              "        docLink.innerHTML = docLinkHtml;\n",
              "        element.appendChild(docLink);\n",
              "      }\n",
              "    </script>\n",
              "  </div>\n",
              "\n",
              "\n",
              "<div id=\"df-66eadd47-5ebd-41b8-b144-a671efcf2cec\">\n",
              "  <button class=\"colab-df-quickchart\" onclick=\"quickchart('df-66eadd47-5ebd-41b8-b144-a671efcf2cec')\"\n",
              "            title=\"Suggest charts\"\n",
              "            style=\"display:none;\">\n",
              "\n",
              "<svg xmlns=\"http://www.w3.org/2000/svg\" height=\"24px\"viewBox=\"0 0 24 24\"\n",
              "     width=\"24px\">\n",
              "    <g>\n",
              "        <path d=\"M19 3H5c-1.1 0-2 .9-2 2v14c0 1.1.9 2 2 2h14c1.1 0 2-.9 2-2V5c0-1.1-.9-2-2-2zM9 17H7v-7h2v7zm4 0h-2V7h2v10zm4 0h-2v-4h2v4z\"/>\n",
              "    </g>\n",
              "</svg>\n",
              "  </button>\n",
              "\n",
              "<style>\n",
              "  .colab-df-quickchart {\n",
              "      --bg-color: #E8F0FE;\n",
              "      --fill-color: #1967D2;\n",
              "      --hover-bg-color: #E2EBFA;\n",
              "      --hover-fill-color: #174EA6;\n",
              "      --disabled-fill-color: #AAA;\n",
              "      --disabled-bg-color: #DDD;\n",
              "  }\n",
              "\n",
              "  [theme=dark] .colab-df-quickchart {\n",
              "      --bg-color: #3B4455;\n",
              "      --fill-color: #D2E3FC;\n",
              "      --hover-bg-color: #434B5C;\n",
              "      --hover-fill-color: #FFFFFF;\n",
              "      --disabled-bg-color: #3B4455;\n",
              "      --disabled-fill-color: #666;\n",
              "  }\n",
              "\n",
              "  .colab-df-quickchart {\n",
              "    background-color: var(--bg-color);\n",
              "    border: none;\n",
              "    border-radius: 50%;\n",
              "    cursor: pointer;\n",
              "    display: none;\n",
              "    fill: var(--fill-color);\n",
              "    height: 32px;\n",
              "    padding: 0;\n",
              "    width: 32px;\n",
              "  }\n",
              "\n",
              "  .colab-df-quickchart:hover {\n",
              "    background-color: var(--hover-bg-color);\n",
              "    box-shadow: 0 1px 2px rgba(60, 64, 67, 0.3), 0 1px 3px 1px rgba(60, 64, 67, 0.15);\n",
              "    fill: var(--button-hover-fill-color);\n",
              "  }\n",
              "\n",
              "  .colab-df-quickchart-complete:disabled,\n",
              "  .colab-df-quickchart-complete:disabled:hover {\n",
              "    background-color: var(--disabled-bg-color);\n",
              "    fill: var(--disabled-fill-color);\n",
              "    box-shadow: none;\n",
              "  }\n",
              "\n",
              "  .colab-df-spinner {\n",
              "    border: 2px solid var(--fill-color);\n",
              "    border-color: transparent;\n",
              "    border-bottom-color: var(--fill-color);\n",
              "    animation:\n",
              "      spin 1s steps(1) infinite;\n",
              "  }\n",
              "\n",
              "  @keyframes spin {\n",
              "    0% {\n",
              "      border-color: transparent;\n",
              "      border-bottom-color: var(--fill-color);\n",
              "      border-left-color: var(--fill-color);\n",
              "    }\n",
              "    20% {\n",
              "      border-color: transparent;\n",
              "      border-left-color: var(--fill-color);\n",
              "      border-top-color: var(--fill-color);\n",
              "    }\n",
              "    30% {\n",
              "      border-color: transparent;\n",
              "      border-left-color: var(--fill-color);\n",
              "      border-top-color: var(--fill-color);\n",
              "      border-right-color: var(--fill-color);\n",
              "    }\n",
              "    40% {\n",
              "      border-color: transparent;\n",
              "      border-right-color: var(--fill-color);\n",
              "      border-top-color: var(--fill-color);\n",
              "    }\n",
              "    60% {\n",
              "      border-color: transparent;\n",
              "      border-right-color: var(--fill-color);\n",
              "    }\n",
              "    80% {\n",
              "      border-color: transparent;\n",
              "      border-right-color: var(--fill-color);\n",
              "      border-bottom-color: var(--fill-color);\n",
              "    }\n",
              "    90% {\n",
              "      border-color: transparent;\n",
              "      border-bottom-color: var(--fill-color);\n",
              "    }\n",
              "  }\n",
              "</style>\n",
              "\n",
              "  <script>\n",
              "    async function quickchart(key) {\n",
              "      const quickchartButtonEl =\n",
              "        document.querySelector('#' + key + ' button');\n",
              "      quickchartButtonEl.disabled = true;  // To prevent multiple clicks.\n",
              "      quickchartButtonEl.classList.add('colab-df-spinner');\n",
              "      try {\n",
              "        const charts = await google.colab.kernel.invokeFunction(\n",
              "            'suggestCharts', [key], {});\n",
              "      } catch (error) {\n",
              "        console.error('Error during call to suggestCharts:', error);\n",
              "      }\n",
              "      quickchartButtonEl.classList.remove('colab-df-spinner');\n",
              "      quickchartButtonEl.classList.add('colab-df-quickchart-complete');\n",
              "    }\n",
              "    (() => {\n",
              "      let quickchartButtonEl =\n",
              "        document.querySelector('#df-66eadd47-5ebd-41b8-b144-a671efcf2cec button');\n",
              "      quickchartButtonEl.style.display =\n",
              "        google.colab.kernel.accessAllowed ? 'block' : 'none';\n",
              "    })();\n",
              "  </script>\n",
              "</div>\n",
              "\n",
              "    </div>\n",
              "  </div>\n"
            ],
            "application/vnd.google.colaboratory.intrinsic+json": {
              "type": "dataframe",
              "variable_name": "df_reviews",
              "summary": "{\n  \"name\": \"df_reviews\",\n  \"rows\": 3745,\n  \"fields\": [\n    {\n      \"column\": \"travel_type\",\n      \"properties\": {\n        \"dtype\": \"category\",\n        \"num_unique_values\": 4,\n        \"samples\": [\n          \"Family Leisure\",\n          \"Couple Leisure\",\n          \"Solo Leisure\"\n        ],\n        \"semantic_type\": \"\",\n        \"description\": \"\"\n      }\n    },\n    {\n      \"column\": \"travel_class\",\n      \"properties\": {\n        \"dtype\": \"category\",\n        \"num_unique_values\": 4,\n        \"samples\": [\n          \"Business Class\",\n          \"First Class\",\n          \"Economy Class\"\n        ],\n        \"semantic_type\": \"\",\n        \"description\": \"\"\n      }\n    },\n    {\n      \"column\": \"route\",\n      \"properties\": {\n        \"dtype\": \"category\",\n        \"num_unique_values\": 719,\n        \"samples\": [\n          \"Delhi to Singapore\",\n          \"New Delhi to Tel Aviv\",\n          \"Delhi to Washington\"\n        ],\n        \"semantic_type\": \"\",\n        \"description\": \"\"\n      }\n    },\n    {\n      \"column\": \"date\",\n      \"properties\": {\n        \"dtype\": \"date\",\n        \"min\": \"2014-10-01 00:00:00\",\n        \"max\": \"2024-09-01 00:00:00\",\n        \"num_unique_values\": 111,\n        \"samples\": [\n          \"2017-04-01 00:00:00\",\n          \"2023-07-01 00:00:00\",\n          \"2024-05-01 00:00:00\"\n        ],\n        \"semantic_type\": \"\",\n        \"description\": \"\"\n      }\n    },\n    {\n      \"column\": \"seating_comfort\",\n      \"properties\": {\n        \"dtype\": \"number\",\n        \"std\": 1.4395561565331803,\n        \"min\": 1.0,\n        \"max\": 5.0,\n        \"num_unique_values\": 5,\n        \"samples\": [\n          3.0,\n          4.0,\n          5.0\n        ],\n        \"semantic_type\": \"\",\n        \"description\": \"\"\n      }\n    },\n    {\n      \"column\": \"staff_service\",\n      \"properties\": {\n        \"dtype\": \"number\",\n        \"std\": 1.5318129204703759,\n        \"min\": 1.0,\n        \"max\": 5.0,\n        \"num_unique_values\": 5,\n        \"samples\": [\n          4.0,\n          3.0,\n          5.0\n        ],\n        \"semantic_type\": \"\",\n        \"description\": \"\"\n      }\n    },\n    {\n      \"column\": \"food_quality\",\n      \"properties\": {\n        \"dtype\": \"number\",\n        \"std\": 1.4421032456972545,\n        \"min\": 0.0,\n        \"max\": 5.0,\n        \"num_unique_values\": 6,\n        \"samples\": [\n          2.0,\n          1.0,\n          0.0\n        ],\n        \"semantic_type\": \"\",\n        \"description\": \"\"\n      }\n    },\n    {\n      \"column\": \"entertainment\",\n      \"properties\": {\n        \"dtype\": \"number\",\n        \"std\": 1.2674583321054467,\n        \"min\": 0.0,\n        \"max\": 5.0,\n        \"num_unique_values\": 6,\n        \"samples\": [\n          1.0,\n          5.0,\n          0.0\n        ],\n        \"semantic_type\": \"\",\n        \"description\": \"\"\n      }\n    },\n    {\n      \"column\": \"ground_service\",\n      \"properties\": {\n        \"dtype\": \"number\",\n        \"std\": 1.497750301358201,\n        \"min\": 1.0,\n        \"max\": 5.0,\n        \"num_unique_values\": 5,\n        \"samples\": [\n          5.0,\n          3.0,\n          2.0\n        ],\n        \"semantic_type\": \"\",\n        \"description\": \"\"\n      }\n    },\n    {\n      \"column\": \"value_for_money\",\n      \"properties\": {\n        \"dtype\": \"number\",\n        \"std\": 1.5007795645612723,\n        \"min\": 1.0,\n        \"max\": 5.0,\n        \"num_unique_values\": 5,\n        \"samples\": [\n          2.0,\n          3.0,\n          5.0\n        ],\n        \"semantic_type\": \"\",\n        \"description\": \"\"\n      }\n    },\n    {\n      \"column\": \"recommended\",\n      \"properties\": {\n        \"dtype\": \"number\",\n        \"std\": 0,\n        \"min\": 0,\n        \"max\": 1,\n        \"num_unique_values\": 2,\n        \"samples\": [\n          1,\n          0\n        ],\n        \"semantic_type\": \"\",\n        \"description\": \"\"\n      }\n    },\n    {\n      \"column\": \"overall_rating\",\n      \"properties\": {\n        \"dtype\": \"number\",\n        \"std\": 3.082642753438441,\n        \"min\": 1.0,\n        \"max\": 10.0,\n        \"num_unique_values\": 10,\n        \"samples\": [\n          5.0,\n          10.0\n        ],\n        \"semantic_type\": \"\",\n        \"description\": \"\"\n      }\n    },\n    {\n      \"column\": \"review\",\n      \"properties\": {\n        \"dtype\": \"category\",\n        \"num_unique_values\": 1173,\n        \"samples\": [\n          \"  Kathmandu to Colombo via Delhi / Chennai. Never in my life have I had poor customer service like air India. As I was flying Kathmandu to Colombo Air India had me routed through India changing flights from Delhi to Chennai, not informing me of needing a transit visa, and they would not board me. I was offered no refund, no exchange and told I should have known the rules and I can \\\"go book another flight on my credit card\\\" leaving me stuck in kathmandhu for over 3 days. Offering no compassion for the situation marking me as a \\\"No Show\\\" and telling me I had 30 minutes to go back into the city to the air India office before the closed to try and resolve the issue, which I did and was offered no remorse or help. I hope they train your staff to show a bit more sincerity.\",\n          \"  Appalling airline. My flight from Mumbai to Bengaluru (Air India 609) scheduled to depart on March 1 at 8:00 am was delayed initially for 2 hours for \\u2018technical reasons\\u2019. We finally boarded at 10:00 am and started taxiing; the flight was then aborted before takeoff for a new \\u2018technical issue\\u2019. All passengers were stranded on the plane for what seemed like an eternity before being offloaded on to a bus. The passengers were stuck on the bus for better part of an hour because the driver was not informed by the airline as to where to drop off the passengers. Finally, the passengers were taken to \\u2018arrival\\u2019 but not informed about where to collect their previously checked-in bags leading to total chaos. After collecting our bags we were asked to wait by the check-in counter for announcement regarding a replacement flight. During the entire fiasco, the Air India staff members at the airport were totally dysfunctional and incompetent. Nobody had a clue as to when we would be able to get on an alternative flight. The irate passengers had to wait by the counter without food or water for several hours before finally being accommodated on a flight late evening. An entire day was wasted waiting to get on a short flight. To add insult to injury, the airline staff members were found smirking behind the counters at the passengers who were understandably distressed at the situation. I learnt subsequently that my experience with Air India was not uncommon. I caution other potential passengers to read reviews and experiences of others before booking a flight on this airline. I will never ever book a flight on this airline again.\"\n        ],\n        \"semantic_type\": \"\",\n        \"description\": \"\"\n      }\n    },\n    {\n      \"column\": \"Airlines\",\n      \"properties\": {\n        \"dtype\": \"category\",\n        \"num_unique_values\": 4,\n        \"samples\": [\n          \"Vistara\",\n          \"Spicejet\"\n        ],\n        \"semantic_type\": \"\",\n        \"description\": \"\"\n      }\n    },\n    {\n      \"column\": \"year\",\n      \"properties\": {\n        \"dtype\": \"int32\",\n        \"num_unique_values\": 11,\n        \"samples\": [\n          2019,\n          2024\n        ],\n        \"semantic_type\": \"\",\n        \"description\": \"\"\n      }\n    },\n    {\n      \"column\": \"month\",\n      \"properties\": {\n        \"dtype\": \"int32\",\n        \"num_unique_values\": 12,\n        \"samples\": [\n          11,\n          1\n        ],\n        \"semantic_type\": \"\",\n        \"description\": \"\"\n      }\n    }\n  ]\n}"
            }
          },
          "metadata": {},
          "execution_count": 27
        }
      ]
    },
    {
      "cell_type": "code",
      "source": [
        "df_reviews.to_csv('Airline_Reviews_Combined.csv',index=False)                   # exporting the final data file"
      ],
      "metadata": {
        "id": "rWI8ykRauVmY"
      },
      "execution_count": null,
      "outputs": []
    }
  ]
}